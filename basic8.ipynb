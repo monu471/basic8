{
 "cells": [
  {
   "cell_type": "markdown",
   "id": "3693a4bd",
   "metadata": {},
   "source": [
    "### 1. Is the Python Standard Library included with PyInputPlus?\n"
   ]
  },
  {
   "cell_type": "markdown",
   "id": "1176a026",
   "metadata": {},
   "source": [
    "No, the Python Standard Library is not included with PyInputPlus. PyInputPlus is a separate third-party library that provides additional functionality for taking user input in Python, such as validating and handling different types of input, including numbers, dates, and emails.\n",
    "\n",
    "The Python Standard Library, on the other hand, is a collection of modules and packages that are included with Python itself. It provides a wide range of functionality for tasks such as file I/O, network communication, string manipulation, regular expressions, and more. The Python Standard Library comes pre-installed with Python, and you can use its modules and packages without the need for any additional installations.\n",
    "\n",
    "While PyInputPlus can be installed and used alongside the Python Standard Library, they are independent entities, and PyInputPlus does not include the entire Python Standard Library."
   ]
  },
  {
   "cell_type": "markdown",
   "id": "e3bdc3d5",
   "metadata": {},
   "source": [
    "### 2. Why is PyInputPlus commonly imported with import pyinputplus as pypi?"
   ]
  },
  {
   "cell_type": "markdown",
   "id": "f20b1e59",
   "metadata": {},
   "source": [
    "PyInputPlus is commonly imported with the alias `pyip` (or sometimes `pypi`) for brevity and convenience. Here are a few reasons why this alias is often used:\n",
    "\n",
    "1. Shorter and easier to type: The name `pyinputplus` is quite long, and using `pyip` or `pypi` as an alias reduces the amount of typing required to use the library. It makes the code more concise and easier to read.\n",
    "\n",
    "2. Avoiding namespace conflicts: By using an alias, you can prevent potential naming conflicts with other modules or variables in your code. It ensures that there won't be any clashes if you have other modules or variables with similar names.\n",
    "\n",
    "3. Consistency with common convention: Using `pyip` or `pypi` as an alias for PyInputPlus follows a common convention in the Python community. It is a widely recognized and understood alias that many developers use when working with PyInputPlus.\n",
    "\n",
    "While using an alias is not required, it is a common practice to improve code readability and maintainability. It's worth noting that you can choose any alias you prefer as long as it adheres to Python's variable naming rules."
   ]
  },
  {
   "cell_type": "markdown",
   "id": "561cb9bc",
   "metadata": {},
   "source": [
    "### 3. How do you distinguish between inputInt() and inputFloat()?"
   ]
  },
  {
   "cell_type": "markdown",
   "id": "eef015cd",
   "metadata": {},
   "source": [
    "we can use type module to check their datatypes "
   ]
  },
  {
   "cell_type": "markdown",
   "id": "05a8a68e",
   "metadata": {},
   "source": [
    "### 4. Using PyInputPlus, how do you ensure that the user enters a whole number between 0 and 99?"
   ]
  },
  {
   "cell_type": "markdown",
   "id": "b7d55e2c",
   "metadata": {},
   "source": [
    "\n",
    "To ensure that the user enters a whole number between 0 and 99 using PyInputPlus, you can use the inputInt() function along with the min and max parameters to set the acceptable range."
   ]
  },
  {
   "cell_type": "code",
   "execution_count": 6,
   "id": "ec041811",
   "metadata": {},
   "outputs": [
    {
     "name": "stdout",
     "output_type": "stream",
     "text": [
      "Enter a number between 0 and 99: 100\n",
      "Number must be at maximum 99.\n",
      "Enter a number between 0 and 99: 1\n",
      "Entered number: 1\n"
     ]
    }
   ],
   "source": [
    "import pyinputplus as pyip\n",
    "\n",
    "num = pyip.inputInt(\"Enter a number between 0 and 99: \", min=0, max=99)\n",
    "print(\"Entered number:\", num)\n"
   ]
  },
  {
   "cell_type": "code",
   "execution_count": 4,
   "id": "02152203",
   "metadata": {},
   "outputs": [
    {
     "name": "stdout",
     "output_type": "stream",
     "text": [
      "Defaulting to user installation because normal site-packages is not writeable\n",
      "Requirement already satisfied: pyinputplus in c:\\users\\my\\appdata\\roaming\\python\\python310\\site-packages (0.2.12)\n",
      "Requirement already satisfied: pysimplevalidate>=0.2.7 in c:\\users\\my\\appdata\\roaming\\python\\python310\\site-packages (from pyinputplus) (0.2.12)\n",
      "Requirement already satisfied: stdiomask>=0.0.3 in c:\\users\\my\\appdata\\roaming\\python\\python310\\site-packages (from pyinputplus) (0.0.6)\n",
      "Note: you may need to restart the kernel to use updated packages.\n"
     ]
    }
   ],
   "source": [
    "pip install pyinputplus\n"
   ]
  },
  {
   "cell_type": "markdown",
   "id": "d77ca7b7",
   "metadata": {},
   "source": [
    "### 5. What is transferred to the keyword arguments allowRegexes and blockRegexes?"
   ]
  },
  {
   "cell_type": "markdown",
   "id": "312a6ed5",
   "metadata": {},
   "source": [
    "allowRegexes: This keyword argument accepts a list of regular expression patterns. It allows only the inputs that match any of the specified patterns. If an input does not match any of the patterns, it will be rejected.\n",
    "\n",
    "blockRegexes: This keyword argument also accepts a list of regular expression patterns. It blocks inputs that match any of the specified patterns. If an input matches any of the patterns, it will be rejected."
   ]
  },
  {
   "cell_type": "code",
   "execution_count": 7,
   "id": "7a6032d1",
   "metadata": {},
   "outputs": [
    {
     "name": "stdout",
     "output_type": "stream",
     "text": [
      "Enter an even number: 1000000\n",
      "Enter some text (don't include 'spam'): 789\n"
     ]
    }
   ],
   "source": [
    "import pyinputplus as pyip\n",
    "\n",
    "# Allow only even numbers\n",
    "num = pyip.inputInt(\"Enter an even number: \", allowRegexes=[r'^[02468]*$'])\n",
    "\n",
    "# Block inputs containing 'spam'\n",
    "text = pyip.inputStr(\"Enter some text (don't include 'spam'): \", blockRegexes=[r'spam'])\n"
   ]
  },
  {
   "cell_type": "markdown",
   "id": "d01f72bd",
   "metadata": {},
   "source": [
    "### 6. If a blank input is entered three times, what does inputStr(limit=3) do?"
   ]
  },
  {
   "cell_type": "markdown",
   "id": "17545af4",
   "metadata": {},
   "source": [
    "The limit parameter in inputStr(limit=3) specifies the maximum number of retries allowed for invalid inputs. By default, if an invalid input is entered, PyInputPlus will prompt the user again until a valid input is provided. However, when the limit is specified, it restricts the number of retries.\n",
    "\n",
    "In the case of inputStr(limit=3), if the user enters a blank input three times in a row, meaning they press Enter without entering any text, PyInputPlus will raise a TimeoutException. This exception indicates that the maximum number of retries has been reached without receiving a valid input."
   ]
  },
  {
   "cell_type": "code",
   "execution_count": 11,
   "id": "d3aabe2d",
   "metadata": {},
   "outputs": [
    {
     "name": "stdout",
     "output_type": "stream",
     "text": [
      "Enter some text: 1236\n",
      "Entered text: 1236\n"
     ]
    }
   ],
   "source": [
    "import pyinputplus as pyip\n",
    "\n",
    "text = pyip.inputStr(\"Enter some text: \", limit=3)\n",
    "print(\"Entered text:\", text)\n"
   ]
  },
  {
   "cell_type": "markdown",
   "id": "0fa10cf5",
   "metadata": {},
   "source": [
    "### 7. If blank input is entered three times, what does inputStr(limit=3, default=\"hello\" do?"
   ]
  },
  {
   "cell_type": "markdown",
   "id": "7aa8f38b",
   "metadata": {},
   "source": [
    " default parameter specifies the default value to be returned if the maximum number of retries is reached."
   ]
  },
  {
   "cell_type": "code",
   "execution_count": null,
   "id": "efbe5e76",
   "metadata": {},
   "outputs": [],
   "source": []
  }
 ],
 "metadata": {
  "kernelspec": {
   "display_name": "Python 3 (ipykernel)",
   "language": "python",
   "name": "python3"
  },
  "language_info": {
   "codemirror_mode": {
    "name": "ipython",
    "version": 3
   },
   "file_extension": ".py",
   "mimetype": "text/x-python",
   "name": "python",
   "nbconvert_exporter": "python",
   "pygments_lexer": "ipython3",
   "version": "3.10.9"
  }
 },
 "nbformat": 4,
 "nbformat_minor": 5
}
